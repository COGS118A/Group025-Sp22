{
 "cells": [
  {
   "cell_type": "markdown",
   "metadata": {},
   "source": [
    "# COGS 118A- Project Checkpoint"
   ]
  },
  {
   "cell_type": "markdown",
   "metadata": {},
   "source": [
    "# Names\n",
    "\n",
    "- Merel van den Bos\n",
    "- Alex Rivera\n",
    "- Albert Aung\n",
    "- Lillian Wood"
   ]
  },
  {
   "cell_type": "markdown",
   "metadata": {},
   "source": [
    "# Abstract \n",
    "This project will focus on the online gaming storefront Steam and its review system. Our goal with the dataset is to create a model using sentiment analysis that can automatically detect whether a user's review of a game is positive or negative based on language alone. We will be using heavy feature selection, such as bag of words and weighing certain features. Then, we plan to run a classification model such as Naïve Bayes or a Decision Tree in an attempt to categorize incoming reviews into positive or negative. This will allow the review system to be more automatic and better show what the general consensus is about a particular game."
   ]
  },
  {
   "cell_type": "markdown",
   "metadata": {},
   "source": [
    "# Background\n",
    "\n",
    "Steam is a highly-used online marketplace for P.C. videogames. According to Statista, in 2020, approximately 120 million people were active monthly on Steam, demonstrating its wide reach <a name=\"Statista\"></a>[<sup>[4]</sup>](#Statista). The popularity of the platform has developed into a social feature by housing the P.C. gaming community and connecting friends through mutually-played games. An important feature of Steam, both as a marketplace and a social sphere, is the ability to write, read, and rate reviews for games.\n",
    "\n",
    "The plethora of reviews on Steam provides both an interesting and abundant source of text with potential to drive useful sentiment analysis models. In their paper, \"Steam Review Dataset - new, large scale sentiment dataset,\" Sobkowicz and Stokowiec introduce a dataset which they claim could be a powerful source of consumer data for sentiment analysis <a name=\"Sobkowicz\"></a>[<sup>[3]</sup>](#sobkowicznote). Utilizing these reviews has relevant and important implications. Since these reviews act as consumer data, conclusions drawn from these reviews inform both gamers and game developers about successful and worthwhile games. Additionally, the function of reviewing is a very powerful feature, providing gamers with a voice that directly impacts which games sell and which games flop <a name=\"Sobkowicz\"></a>[<sup>[3]</sup>](#sobkowicznote). It would be highly valuable for both development of future games and for satisfaction of gamers to tailor the review system to be effective and informative.\n",
    "\n",
    "As it stands, reviews consist of both written commentary and a \"Yes\" (thumbs-up) or \"No\" (thumbs-down). The Yes and No ratings for each game are averaged to create two summative ratings which appear underneath the synopsis of the game when a user views the game's page. \"Recent Reviews\" averages the number of positive and negative recent reviews. \"All\" averages the number of all positive and negative reviews. The summative ratings are labeled on a scale of: overwhelmingly negative, very negative, negative, mostly negative, mixed, mostly positive, positive, very positive, overwhelmingly positive.\n",
    "\n",
    "Although this feedback is already incredibly helpful to gamers and game developers, it is questionable whether the data is entirely accurate. As they stand, the summative ratings are binary, only based on \"Yes\" or \"No.\" There is no way to account for partially liking or disliking a game. Forcing users to choose between Yes or No may skew the ratings incorrectly, since there is no middle ground. Therefore, it would be useful to also summarily analyze the written data in order to develop a more well-rounded summary of a game's reviews.\n",
    "\n",
    "Previous research into sentiment analysis of Steam reviews shows that both Naïve Bayes and Decision Tree classification are useful models in predicting review sentiment <a name=\"zuo\"></a>[<sup>[5]</sup>](#zuonote). It has been found that decision tree classification is a better-performing model than Naïve Bayes <a name=\"zuo\"></a>[<sup>[5]</sup>](#zuonote). We aim to test this, by ultimately attempting both classification methods to predict positive and negative review sentiment. Based on our results, either confirming or contradicting prior research, we will select the best model to use for this sentiment analysis.\n",
    "\n",
    "Additionally, a major aspect of this project will be feature selection of the textual Steam reviews in order to perform classification.  Feature selection is essential to developing more accurate classification models <a name=\"formannote\"></a>[<sup>[1]</sup>](#forman), therefore we find it necessary to perform feature selection on our textual data. Multiple feature selection methods exist for sentiment analysis, such as ngrams, bag of words, information gain (IG) and sentiment lexicons <a name=\"Sharma\"></a>[<sup>[2]</sup>](#sharmanote). However, this research targets other platforms, such as movie reviews which does not account for the language that is unique to gamers. Moreover, prior research accounts for removing special characters/digits, lower case, removing stop words, stemming, removing links, removing most frequent or most infrequent words, misspelled words, and short reviews <a name=\"Zuo\"></a>[<sup>[5]</sup>](#zuonote). Yet, limitations include a lack of testing to see the effectiveness of different feature selections. Another concern is that these methods that are successful in other linguistic spheres but may not account for niche gamer-speak, sarcasm, emojis, and emoticons. This could all be very useful and valuable information, which we do not want to lose when trying to classify positive and negative reviews.  Further research is needed in regards to effective feature selection for sentiment analysis of Steam gaming reviews. Therefore, we propose our own solution. We will begin by using bag of words as our feature selection method. We plan to account for unique gamer speak by placing weights on certain characters, emojis, and emoticons. \n",
    "\n",
    "We propose the most meaningful way to analyze and summarize a game's written reviews would be to through heavy feature selection, weighing special characters and unique gamer speech, and utlizing decision tree or Naïve Bayes classification to predict the rating of a game based on the written reviews."
   ]
  },
  {
   "cell_type": "markdown",
   "metadata": {},
   "source": [
    "# Problem Statement\n",
    "\n",
    "Problem: Optimizing the prediction of game ratings based on user reviews.\n",
    "\n",
    "Solution: Sentiment Analysis through bag of words feature selection and weighing special characters and gamer speech, followed by Naïve Bayes or decision tree Classification.\n",
    "\n",
    "Metrics of Measurement: Accuracy (percentage of correct game rating predictions) Precision (percentage of correct game rating predictions over correct game rating predictions and false correct game rating predictions) Recall (percentage of correct game rating predictions over correct game rating predicitions and false incorrect game rating predictions).\n",
    "\n",
    "Replicability: Choosing a large dataset of 6.4 million observations made and making it available for everyone to access Looking to avoid overfitting Using easily-accessible libraries for creating different models which are shared online."
   ]
  },
  {
   "cell_type": "markdown",
   "metadata": {},
   "source": [
    "# Data\n",
    "\n",
    "- Dataset: https://www.kaggle.com/datasets/andrewmvd/steam-reviews\n",
    "- Description: The dataset contains over 6.4 million observations, which are publicly available reviews in English from the Steam Reviews portion of Steam store run by Valve. 5 variables describe each observation: Game id, Game Name, Review text, Review Sentiment: whether the game the review recommends the game or not, and Review vote: whether the review was recommended by another user or not.\n",
    "- Some critical variables are the Review text, Review sentiment, and Review vote. Review text will be string data. Review sentiment is coded -1 as negative and 1 as positive review. Review vote is coded 0 as not recommended and 1 as recommended.\n",
    "- Review sentiment and Review vote are already in numerical values, which alleviates cleaning. "
   ]
  },
  {
   "cell_type": "markdown",
   "metadata": {},
   "source": [
    "# Proposed Solution\n",
    "\n",
    "The solution to the problem we're trying to solve is a classification, such as Naïve Bayes or Decision Trees, to perform sentiment analysis. Sentiment analysis classification is an ideal model because our problem involves evaluating user ratings on Steam. Sentiment analysis looks into analyzing text to classify it. In our case, classification is between binary options (i.e. whether a review is positive or negative). Moreover, gaining this information allows us to make predictions on the ratings of each game. \n",
    "\n",
    "To do this, we will apply different models to see which model optimizes the correct prediction of game ratings. To perform sentiment analysis, we will pre-process data to reduce noise and account for dimensionality to improve the efficiency of the machine learning models. Some ways we look to do this include cleaning the data by switching all the words into lowercase, removing numbers, removing stopwords and removing punctuation <a name=\"zuo\"></a>[<sup>[5]</sup>](#zuonote). As previously mentioned, it is of necessity to perform at least one feature selection method. Because prior work in this area is lacking, we propose our own solution. We will begin by using bag of words as our feature selection method. Unique gamer speak will be accounted for by placing weights on certain characters, emojis, and emoticons. \n",
    "\n",
    "After performing feature selection, we aim to use a classification method  for sentiment analysis such as Naïve Bayes or Decision Trees. There is evidence to support the use of both models, although Decision Trees was shown to be more accurate <a name=\"zuo\"></a>[<sup>[5]</sup>](#zuonote). However, we believe it will be useful to try both models in an attempt to identify the best-performing classification model, especially using our unique feature selection. Using one of these classification models will then allow us to automatically and more accurately categorize reviews into positive and negative without further user input.\n",
    "\n",
    "Essentially, we propose the most meaningful way to analyze and summarize a game's written reviews would be to through bag of words feature selection, weighing special characters and unique gamer speech, and utilizing decision tree or Naïve Bayes classification to predict the rating of a game based on the written reviews."
   ]
  },
  {
   "cell_type": "markdown",
   "metadata": {},
   "source": [
    "# Evaluation Metrics\n",
    "\n",
    "Since the problem we are tackling is a classifcation problem (i.e. whether a rating is positive or negative), our evaluation metrics in relation to sentiment analysis will include the following: precision, recall, f-score and accuracy. Accuracy or more specifically classification accuracy can be determined by the formula (Accuracy = Number of Correct Predictions / Total number of predictions made). This measures the correctness of predictions as suggested by the formula. An equation that envelopes both precision and recall is the calculation of the F1 score which entails (F1 = 2 * 1/(1/Precision + 1/Recall)). The F1 Score tells us how precise (preicison) and how error-less our model is (recall). A high amount of precision and low amount of recall can lead to a significant number of missing instances and a low amount of precision but high amount of recall shows us inaccurate the data is but it does not miss a significant number of instances. The F1 score which ranges from [0,1] calculates and tries to tell us the balance between precision and recall. The prediction formula is given by (Precision = Number of True Positives / ( Number of True Positives + Number of False Positives)) and tells us the number of correct positive results over the number of positive results predicted by the model. The recall formula is given by ( Number of True Positives / Number of True Positives + Number of False Negatives) and tells us the number of correct positive results over the number of all samples that should have identified as positive. \n",
    "\n",
    "Source: https://towardsdatascience.com/metrics-to-evaluate-your-machine-learning-algorithm-f10ba6e38234"
   ]
  },
  {
   "cell_type": "markdown",
   "metadata": {},
   "source": [
    "# Preliminary results\n",
    "\n",
    "Our first step here was importing the dataset we are using. We will use the pandas library to accomplish this."
   ]
  },
  {
   "cell_type": "code",
   "execution_count": 1,
   "metadata": {},
   "outputs": [
    {
     "data": {
      "text/html": [
       "<div>\n",
       "<style scoped>\n",
       "    .dataframe tbody tr th:only-of-type {\n",
       "        vertical-align: middle;\n",
       "    }\n",
       "\n",
       "    .dataframe tbody tr th {\n",
       "        vertical-align: top;\n",
       "    }\n",
       "\n",
       "    .dataframe thead th {\n",
       "        text-align: right;\n",
       "    }\n",
       "</style>\n",
       "<table border=\"1\" class=\"dataframe\">\n",
       "  <thead>\n",
       "    <tr style=\"text-align: right;\">\n",
       "      <th></th>\n",
       "      <th>app_id</th>\n",
       "      <th>app_name</th>\n",
       "      <th>review_text</th>\n",
       "      <th>review_score</th>\n",
       "      <th>review_votes</th>\n",
       "    </tr>\n",
       "  </thead>\n",
       "  <tbody>\n",
       "    <tr>\n",
       "      <th>0</th>\n",
       "      <td>10</td>\n",
       "      <td>Counter-Strike</td>\n",
       "      <td>Ruined my life.</td>\n",
       "      <td>1</td>\n",
       "      <td>0</td>\n",
       "    </tr>\n",
       "    <tr>\n",
       "      <th>1</th>\n",
       "      <td>10</td>\n",
       "      <td>Counter-Strike</td>\n",
       "      <td>This will be more of a ''my experience with th...</td>\n",
       "      <td>1</td>\n",
       "      <td>1</td>\n",
       "    </tr>\n",
       "    <tr>\n",
       "      <th>2</th>\n",
       "      <td>10</td>\n",
       "      <td>Counter-Strike</td>\n",
       "      <td>This game saved my virginity.</td>\n",
       "      <td>1</td>\n",
       "      <td>0</td>\n",
       "    </tr>\n",
       "    <tr>\n",
       "      <th>3</th>\n",
       "      <td>10</td>\n",
       "      <td>Counter-Strike</td>\n",
       "      <td>• Do you like original games? • Do you like ga...</td>\n",
       "      <td>1</td>\n",
       "      <td>0</td>\n",
       "    </tr>\n",
       "    <tr>\n",
       "      <th>4</th>\n",
       "      <td>10</td>\n",
       "      <td>Counter-Strike</td>\n",
       "      <td>Easy to learn, hard to master.</td>\n",
       "      <td>1</td>\n",
       "      <td>1</td>\n",
       "    </tr>\n",
       "  </tbody>\n",
       "</table>\n",
       "</div>"
      ],
      "text/plain": [
       "   app_id        app_name                                        review_text  \\\n",
       "0      10  Counter-Strike                                    Ruined my life.   \n",
       "1      10  Counter-Strike  This will be more of a ''my experience with th...   \n",
       "2      10  Counter-Strike                      This game saved my virginity.   \n",
       "3      10  Counter-Strike  • Do you like original games? • Do you like ga...   \n",
       "4      10  Counter-Strike           Easy to learn, hard to master.             \n",
       "\n",
       "   review_score  review_votes  \n",
       "0             1             0  \n",
       "1             1             1  \n",
       "2             1             0  \n",
       "3             1             0  \n",
       "4             1             1  "
      ]
     },
     "execution_count": 1,
     "metadata": {},
     "output_type": "execute_result"
    }
   ],
   "source": [
    "import pandas as pd\n",
    "import numpy as np\n",
    "import seaborn as sns\n",
    "import re\n",
    "import matplotlib.pyplot as plt\n",
    "\n",
    "df_steam = pd.read_csv(r'dataset.csv')\n",
    "df_steam = df_steam.head(100000) # Limit amount of data while testing\n",
    "df_steam.head()"
   ]
  },
  {
   "cell_type": "markdown",
   "metadata": {},
   "source": [
    "To get a better understanding of our data, we take a look at the count, mean and standard deviation of the data."
   ]
  },
  {
   "cell_type": "code",
   "execution_count": 2,
   "metadata": {},
   "outputs": [
    {
     "data": {
      "text/html": [
       "<div>\n",
       "<style scoped>\n",
       "    .dataframe tbody tr th:only-of-type {\n",
       "        vertical-align: middle;\n",
       "    }\n",
       "\n",
       "    .dataframe tbody tr th {\n",
       "        vertical-align: top;\n",
       "    }\n",
       "\n",
       "    .dataframe thead th {\n",
       "        text-align: right;\n",
       "    }\n",
       "</style>\n",
       "<table border=\"1\" class=\"dataframe\">\n",
       "  <thead>\n",
       "    <tr style=\"text-align: right;\">\n",
       "      <th></th>\n",
       "      <th>app_id</th>\n",
       "      <th>review_score</th>\n",
       "      <th>review_votes</th>\n",
       "    </tr>\n",
       "  </thead>\n",
       "  <tbody>\n",
       "    <tr>\n",
       "      <th>count</th>\n",
       "      <td>100000.000000</td>\n",
       "      <td>100000.000000</td>\n",
       "      <td>100000.000000</td>\n",
       "    </tr>\n",
       "    <tr>\n",
       "      <th>mean</th>\n",
       "      <td>66839.370540</td>\n",
       "      <td>0.728680</td>\n",
       "      <td>0.146030</td>\n",
       "    </tr>\n",
       "    <tr>\n",
       "      <th>std</th>\n",
       "      <td>47757.058814</td>\n",
       "      <td>0.684858</td>\n",
       "      <td>0.353138</td>\n",
       "    </tr>\n",
       "    <tr>\n",
       "      <th>min</th>\n",
       "      <td>10.000000</td>\n",
       "      <td>-1.000000</td>\n",
       "      <td>0.000000</td>\n",
       "    </tr>\n",
       "    <tr>\n",
       "      <th>25%</th>\n",
       "      <td>10180.000000</td>\n",
       "      <td>1.000000</td>\n",
       "      <td>0.000000</td>\n",
       "    </tr>\n",
       "    <tr>\n",
       "      <th>50%</th>\n",
       "      <td>102700.000000</td>\n",
       "      <td>1.000000</td>\n",
       "      <td>0.000000</td>\n",
       "    </tr>\n",
       "    <tr>\n",
       "      <th>75%</th>\n",
       "      <td>105600.000000</td>\n",
       "      <td>1.000000</td>\n",
       "      <td>0.000000</td>\n",
       "    </tr>\n",
       "    <tr>\n",
       "      <th>max</th>\n",
       "      <td>105600.000000</td>\n",
       "      <td>1.000000</td>\n",
       "      <td>1.000000</td>\n",
       "    </tr>\n",
       "  </tbody>\n",
       "</table>\n",
       "</div>"
      ],
      "text/plain": [
       "              app_id   review_score   review_votes\n",
       "count  100000.000000  100000.000000  100000.000000\n",
       "mean    66839.370540       0.728680       0.146030\n",
       "std     47757.058814       0.684858       0.353138\n",
       "min        10.000000      -1.000000       0.000000\n",
       "25%     10180.000000       1.000000       0.000000\n",
       "50%    102700.000000       1.000000       0.000000\n",
       "75%    105600.000000       1.000000       0.000000\n",
       "max    105600.000000       1.000000       1.000000"
      ]
     },
     "execution_count": 2,
     "metadata": {},
     "output_type": "execute_result"
    }
   ],
   "source": [
    "df_steam.describe()"
   ]
  },
  {
   "cell_type": "markdown",
   "metadata": {},
   "source": [
    "## Perform Cleaning on Review Text\n",
    "\n",
    "Next, we will need to clean the review text in order to process them through our model."
   ]
  },
  {
   "cell_type": "code",
   "execution_count": 3,
   "metadata": {},
   "outputs": [
    {
     "data": {
      "text/plain": [
       "app_id            0\n",
       "app_name         97\n",
       "review_text     190\n",
       "review_score      0\n",
       "review_votes      0\n",
       "dtype: int64"
      ]
     },
     "execution_count": 3,
     "metadata": {},
     "output_type": "execute_result"
    }
   ],
   "source": [
    "df_steam.isnull().sum()"
   ]
  },
  {
   "cell_type": "markdown",
   "metadata": {},
   "source": [
    "We see that we have some entries where either the app_name is null, or the review_text is null. As we do not care about the app_name, it is okay if some entries do not have this listed. However, we will remove all of the reviews where the review text is empty, as this is what we are anaylzing. "
   ]
  },
  {
   "cell_type": "code",
   "execution_count": 4,
   "metadata": {},
   "outputs": [
    {
     "data": {
      "text/plain": [
       "app_id           0\n",
       "app_name        97\n",
       "review_text      0\n",
       "review_score     0\n",
       "review_votes     0\n",
       "dtype: int64"
      ]
     },
     "execution_count": 4,
     "metadata": {},
     "output_type": "execute_result"
    }
   ],
   "source": [
    "df_steam = df_steam.dropna(subset=['review_text'])\n",
    "df_steam.isnull().sum()"
   ]
  },
  {
   "cell_type": "markdown",
   "metadata": {},
   "source": [
    "Afterwards, we want to explore how many of the reviews are positive and how many are negative. "
   ]
  },
  {
   "cell_type": "code",
   "execution_count": 5,
   "metadata": {},
   "outputs": [
    {
     "data": {
      "text/plain": [
       "<AxesSubplot:title={'center':'Review Count Distribution for Steam Dataset'}, xlabel='Types of Reviews (Positive/Negative)', ylabel='Number of Reviews'>"
      ]
     },
     "execution_count": 5,
     "metadata": {},
     "output_type": "execute_result"
    },
    {
     "data": {
      "image/png": "[encoded data removed]",
      "text/plain": [
       "<Figure size 432x288 with 1 Axes>"
      ]
     },
     "metadata": {
      "needs_background": "light"
     },
     "output_type": "display_data"
    }
   ],
   "source": [
    "df_steam['review_score'].value_counts()\n",
    "df_steam['review_score'].value_counts().plot(kind='bar', xlabel = 'Types of Reviews (Positive/Negative)', ylabel = 'Number of Reviews', title = 'Review Count Distribution for Steam Dataset')\n"
   ]
  },
  {
   "cell_type": "markdown",
   "metadata": {},
   "source": [
    "We noticed a larger percentage of the data including positive reviews compared to negative reviews and is something we will be transparent about and will be addressed once the project is published. Next, we want to perform some preliminary cleaning on the review texts themselves to allow them to be processed by our model."
   ]
  },
  {
   "cell_type": "code",
   "execution_count": 6,
   "metadata": {},
   "outputs": [
    {
     "name": "stderr",
     "output_type": "stream",
     "text": [
      "[nltk_data] Downloading package stopwords to\n",
      "[nltk_data]     /Users/arivera/nltk_data...\n",
      "[nltk_data]   Package stopwords is already up-to-date!\n"
     ]
    }
   ],
   "source": [
    "import string\n",
    "import nltk\n",
    "nltk.download('stopwords')\n",
    "\n",
    "def clean_text(text):\n",
    "    text_nonum = re.sub(r'\\d+', '', text)\n",
    "    text_nopunct = \"\".join([char.lower() for char in text_nonum if char not in string.punctuation]) \n",
    "    text_no_doublespace = re.sub('\\s+', ' ', text_nopunct).strip()\n",
    "    \n",
    "    stopwords = nltk.corpus.stopwords.words('english')\n",
    "    text_nostop = \" \".join([word.lower() for word in text_no_doublespace.split() if word.lower() not in stopwords])\n",
    "    return text_nostop\n",
    "df_steam['review_text_clean'] = df_steam['review_text'].apply(clean_text)"
   ]
  },
  {
   "cell_type": "code",
   "execution_count": 7,
   "metadata": {},
   "outputs": [
    {
     "data": {
      "text/html": [
       "<div>\n",
       "<style scoped>\n",
       "    .dataframe tbody tr th:only-of-type {\n",
       "        vertical-align: middle;\n",
       "    }\n",
       "\n",
       "    .dataframe tbody tr th {\n",
       "        vertical-align: top;\n",
       "    }\n",
       "\n",
       "    .dataframe thead th {\n",
       "        text-align: right;\n",
       "    }\n",
       "</style>\n",
       "<table border=\"1\" class=\"dataframe\">\n",
       "  <thead>\n",
       "    <tr style=\"text-align: right;\">\n",
       "      <th></th>\n",
       "      <th>app_id</th>\n",
       "      <th>app_name</th>\n",
       "      <th>review_text</th>\n",
       "      <th>review_score</th>\n",
       "      <th>review_votes</th>\n",
       "      <th>review_text_clean</th>\n",
       "    </tr>\n",
       "  </thead>\n",
       "  <tbody>\n",
       "    <tr>\n",
       "      <th>0</th>\n",
       "      <td>10</td>\n",
       "      <td>Counter-Strike</td>\n",
       "      <td>Ruined my life.</td>\n",
       "      <td>1</td>\n",
       "      <td>0</td>\n",
       "      <td>ruined life</td>\n",
       "    </tr>\n",
       "    <tr>\n",
       "      <th>1</th>\n",
       "      <td>10</td>\n",
       "      <td>Counter-Strike</td>\n",
       "      <td>This will be more of a ''my experience with th...</td>\n",
       "      <td>1</td>\n",
       "      <td>1</td>\n",
       "      <td>experience game type review saying things like...</td>\n",
       "    </tr>\n",
       "    <tr>\n",
       "      <th>2</th>\n",
       "      <td>10</td>\n",
       "      <td>Counter-Strike</td>\n",
       "      <td>This game saved my virginity.</td>\n",
       "      <td>1</td>\n",
       "      <td>0</td>\n",
       "      <td>game saved virginity</td>\n",
       "    </tr>\n",
       "    <tr>\n",
       "      <th>3</th>\n",
       "      <td>10</td>\n",
       "      <td>Counter-Strike</td>\n",
       "      <td>• Do you like original games? • Do you like ga...</td>\n",
       "      <td>1</td>\n",
       "      <td>0</td>\n",
       "      <td>• like original games • like games dont lag • ...</td>\n",
       "    </tr>\n",
       "    <tr>\n",
       "      <th>4</th>\n",
       "      <td>10</td>\n",
       "      <td>Counter-Strike</td>\n",
       "      <td>Easy to learn, hard to master.</td>\n",
       "      <td>1</td>\n",
       "      <td>1</td>\n",
       "      <td>easy learn hard master</td>\n",
       "    </tr>\n",
       "  </tbody>\n",
       "</table>\n",
       "</div>"
      ],
      "text/plain": [
       "   app_id        app_name                                        review_text  \\\n",
       "0      10  Counter-Strike                                    Ruined my life.   \n",
       "1      10  Counter-Strike  This will be more of a ''my experience with th...   \n",
       "2      10  Counter-Strike                      This game saved my virginity.   \n",
       "3      10  Counter-Strike  • Do you like original games? • Do you like ga...   \n",
       "4      10  Counter-Strike           Easy to learn, hard to master.             \n",
       "\n",
       "   review_score  review_votes  \\\n",
       "0             1             0   \n",
       "1             1             1   \n",
       "2             1             0   \n",
       "3             1             0   \n",
       "4             1             1   \n",
       "\n",
       "                                   review_text_clean  \n",
       "0                                        ruined life  \n",
       "1  experience game type review saying things like...  \n",
       "2                               game saved virginity  \n",
       "3  • like original games • like games dont lag • ...  \n",
       "4                             easy learn hard master  "
      ]
     },
     "execution_count": 7,
     "metadata": {},
     "output_type": "execute_result"
    }
   ],
   "source": [
    "df_steam.head()"
   ]
  },
  {
   "cell_type": "markdown",
   "metadata": {},
   "source": [
    "Next, we will attempt feature extraction using a bag of words approach. We will then run this bag of words through a TF-IDF transformation, and finally create a model using naive Bayes. During the use of the Tfidf Vectorizer for Pipelining, we cleaned the data to exclude foreign languages by sticking to ascii values in order to clean up the data a bit more. "
   ]
  },
  {
   "cell_type": "code",
   "execution_count": 8,
   "metadata": {},
   "outputs": [],
   "source": [
    "from sklearn.feature_extraction.text import TfidfVectorizer, TfidfTransformer\n",
    "from sklearn.naive_bayes import MultinomialNB\n",
    "from sklearn.pipeline import Pipeline\n",
    "\n",
    "X = df_steam['review_text_clean']\n",
    "y = df_steam['review_score']\n",
    "\n",
    "clf = Pipeline([\n",
    "    ('vect', TfidfVectorizer(max_features=3000, strip_accents='ascii')),\n",
    "    ('tfidf', TfidfTransformer()),\n",
    "    ('clf', MultinomialNB()),\n",
    "    ])"
   ]
  },
  {
   "cell_type": "code",
   "execution_count": 9,
   "metadata": {},
   "outputs": [],
   "source": [
    "from sklearn.model_selection import train_test_split\n",
    "\n",
    "X_train, X_test, y_train, y_test = train_test_split(X, y, random_state=42, test_size=0.20)\n",
    "\n",
    "classifier = clf.fit(X_train, y_train)\n",
    "\n",
    "predictions_test = classifier.predict(X_test)\n",
    "predictions_train = classifier.predict(X_train)"
   ]
  },
  {
   "cell_type": "markdown",
   "metadata": {},
   "source": [
    "Below, we can see the confusion matrix from our initial run of the model using naive Bayes. "
   ]
  },
  {
   "cell_type": "code",
   "execution_count": 10,
   "metadata": {},
   "outputs": [
    {
     "name": "stdout",
     "output_type": "stream",
     "text": [
      "Accuracy Rate: 0.89\n",
      "Precision: 0.8962044105173876\n",
      "Recall: 0.9862901814363223\n",
      "F1-Score: 0.9390917928065546\n"
     ]
    },
    {
     "data": {
      "image/png": "[encoded data removed]",
      "text/plain": [
       "<Figure size 432x288 with 2 Axes>"
      ]
     },
     "metadata": {
      "needs_background": "light"
     },
     "output_type": "display_data"
    },
    {
     "data": {
      "image/png": "[encoded data removed]",
      "text/plain": [
       "<Figure size 1600x600 with 2 Axes>"
      ]
     },
     "metadata": {
      "needs_background": "light"
     },
     "output_type": "display_data"
    }
   ],
   "source": [
    "from sklearn.metrics import confusion_matrix, precision_score, recall_score, f1_score\n",
    "from sklearn.inspection import permutation_importance\n",
    "\n",
    "cmat = confusion_matrix(y_test, predictions_test)\n",
    "\n",
    "sns.heatmap(cmat, annot=True, fmt='')\n",
    "\n",
    "print('Accuracy Rate: {}'.format(round(np.divide(np.sum([cmat[0,0],cmat[1,1]]),np.sum(cmat)), 3)))\n",
    "print('Precision: {}'.format(precision_score(y_test, predictions_test)))\n",
    "print('Recall: {}'.format(recall_score(y_test, predictions_test)))\n",
    "print('F1-Score: {}'.format(f1_score(y_test, predictions_test)))\n",
    "\n",
    "n = 20\n",
    "\n",
    "features = classifier['vect'].get_feature_names_out()\n",
    "importance_pos = classifier._final_estimator.feature_log_prob_[1].argsort()[::-1][:n]# summarize positive feature importance\n",
    "importance_neg = classifier._final_estimator.feature_log_prob_[0].argsort()[::-1][:n]# summarize negative feature importance\n",
    "\n",
    "\n",
    "plt.figure(figsize=(16, 6), dpi=100)\n",
    "plt.subplot(131)\n",
    "plt.title('Top %i features for positive class' %n)\n",
    "plt.xlabel(\"Feature importance\")\n",
    "plt.barh(features[importance_pos], classifier._final_estimator.feature_log_prob_[1][importance_pos])\n",
    "plt.gca().invert_yaxis()\n",
    "plt.subplot(132)\n",
    "plt.title('Top %i features for negative class' %n)\n",
    "plt.xlabel(\"Feature importance\")\n",
    "plt.barh(features[importance_neg], classifier._final_estimator.feature_log_prob_[0][importance_neg])\n",
    "plt.gca().invert_yaxis()\n",
    "plt.show()"
   ]
  },
  {
   "cell_type": "markdown",
   "metadata": {},
   "source": [
    "We evaluated the model using recall, precision and f1-scores. "
   ]
  },
  {
   "cell_type": "code",
   "execution_count": 11,
   "metadata": {},
   "outputs": [],
   "source": [
    "from sklearn.naive_bayes import BernoulliNB\n",
    "\n",
    "X = df_steam['review_text_clean']\n",
    "y = df_steam['review_score']\n",
    "\n",
    "clf2 = Pipeline([\n",
    "    ('vect', TfidfVectorizer(max_features=3000, strip_accents='ascii')),\n",
    "    ('tfidf', TfidfTransformer()),\n",
    "    ('clf', BernoulliNB()),\n",
    "    ])"
   ]
  },
  {
   "cell_type": "code",
   "execution_count": 12,
   "metadata": {},
   "outputs": [],
   "source": [
    "from sklearn.model_selection import train_test_split\n",
    "\n",
    "X_train, X_test, y_train, y_test = train_test_split(X, y, random_state=42, test_size=0.20)\n",
    "\n",
    "classifier2 = clf2.fit(X_train, y_train)\n",
    "\n",
    "predictions_test = classifier2.predict(X_test)\n",
    "predictions_train = classifier2.predict(X_train)"
   ]
  },
  {
   "cell_type": "code",
   "execution_count": 13,
   "metadata": {
    "scrolled": true
   },
   "outputs": [
    {
     "name": "stdout",
     "output_type": "stream",
     "text": [
      "Accuracy Rate: 0.862\n",
      "Precision: 0.914190278737618\n",
      "Recall: 0.9260836590630651\n",
      "F1-Score: 0.9200985364439936\n"
     ]
    },
    {
     "data": {
      "image/png": "[encoded data removed]",
      "text/plain": [
       "<Figure size 432x288 with 2 Axes>"
      ]
     },
     "metadata": {
      "needs_background": "light"
     },
     "output_type": "display_data"
    },
    {
     "data": {
      "image/png": "[encoded data removed]",
      "text/plain": [
       "<Figure size 1600x600 with 2 Axes>"
      ]
     },
     "metadata": {
      "needs_background": "light"
     },
     "output_type": "display_data"
    }
   ],
   "source": [
    "cmat = confusion_matrix(y_test, predictions_test)\n",
    "\n",
    "sns.heatmap(cmat, annot=True, fmt='')\n",
    "\n",
    "print('Accuracy Rate: {}'.format(round(np.divide(np.sum([cmat[0,0],cmat[1,1]]),np.sum(cmat)), 3)))\n",
    "print('Precision: {}'.format(precision_score(y_test, predictions_test)))\n",
    "print('Recall: {}'.format(recall_score(y_test, predictions_test)))\n",
    "print('F1-Score: {}'.format(f1_score(y_test, predictions_test)))\n",
    "\n",
    "n = 20\n",
    "\n",
    "features = classifier2['vect'].get_feature_names_out()\n",
    "importance_pos = classifier2._final_estimator.feature_log_prob_[1].argsort()[::-1][:n]# summarize positive feature importance\n",
    "importance_neg = classifier2._final_estimator.feature_log_prob_[0].argsort()[::-1][:n]# summarize negative feature importance\n",
    "\n",
    "\n",
    "plt.figure(figsize=(16, 6), dpi=100)\n",
    "plt.subplot(131)\n",
    "plt.title('Top %i features for positive class' %n)\n",
    "plt.xlabel(\"Feature importance\")\n",
    "plt.barh(features[importance_pos], classifier2._final_estimator.feature_log_prob_[1][importance_pos])\n",
    "plt.gca().invert_yaxis()\n",
    "plt.subplot(132)\n",
    "plt.title('Top %i features for negative class' %n)\n",
    "plt.xlabel(\"Feature importance\")\n",
    "plt.barh(features[importance_neg], classifier2._final_estimator.feature_log_prob_[0][importance_neg])\n",
    "plt.gca().invert_yaxis()\n",
    "plt.show()"
   ]
  },
  {
   "cell_type": "code",
   "execution_count": 14,
   "metadata": {},
   "outputs": [],
   "source": [
    "from sklearn.tree import DecisionTreeClassifier\n",
    "\n",
    "X = df_steam['review_text_clean']\n",
    "y = df_steam['review_score']\n",
    "\n",
    "clf3 = Pipeline([\n",
    "    ('vect', TfidfVectorizer(max_features=3000, strip_accents='ascii')),\n",
    "    ('tfidf', TfidfTransformer()),\n",
    "    ('clf', DecisionTreeClassifier()),\n",
    "    ])"
   ]
  },
  {
   "cell_type": "code",
   "execution_count": 15,
   "metadata": {},
   "outputs": [],
   "source": [
    "from sklearn.model_selection import train_test_split\n",
    "\n",
    "X_train, X_test, y_train, y_test = train_test_split(X, y, random_state=42, test_size=0.20)\n",
    "\n",
    "classifier3 = clf3.fit(X_train, y_train)\n",
    "\n",
    "predictions_test = classifier3.predict(X_test)\n",
    "predictions_train = classifier3.predict(X_train)"
   ]
  },
  {
   "cell_type": "code",
   "execution_count": 16,
   "metadata": {},
   "outputs": [
    {
     "name": "stdout",
     "output_type": "stream",
     "text": [
      "Accuracy Rate: 0.872\n",
      "Precision: 0.9191489361702128\n",
      "Recall: 0.9325010209439356\n",
      "F1-Score: 0.9257768382033535\n"
     ]
    },
    {
     "data": {
      "image/png": "[encoded data removed]",
      "text/plain": [
       "<Figure size 432x288 with 2 Axes>"
      ]
     },
     "metadata": {
      "needs_background": "light"
     },
     "output_type": "display_data"
    },
    {
     "data": {
      "image/png": "[encoded data removed]",
      "text/plain": [
       "<Figure size 900x600 with 1 Axes>"
      ]
     },
     "metadata": {
      "needs_background": "light"
     },
     "output_type": "display_data"
    }
   ],
   "source": [
    "cmat = confusion_matrix(y_test, predictions_test)\n",
    "\n",
    "sns.heatmap(cmat, annot=True, fmt='')\n",
    "\n",
    "print('Accuracy Rate: {}'.format(round(np.divide(np.sum([cmat[0,0],cmat[1,1]]),np.sum(cmat)), 3)))\n",
    "print('Precision: {}'.format(precision_score(y_test, predictions_test)))\n",
    "print('Recall: {}'.format(recall_score(y_test, predictions_test)))\n",
    "print('F1-Score: {}'.format(f1_score(y_test, predictions_test)))\n",
    "\n",
    "n = 20\n",
    "\n",
    "features = classifier3['vect'].get_feature_names_out()\n",
    "importance = classifier3._final_estimator.feature_importances_.argsort()[::-1][:n]# summarize feature importance\n",
    "\n",
    "plt.figure(figsize=(9, 6), dpi=100)\n",
    "plt.subplot(131)\n",
    "plt.title('Top %i features' %n)\n",
    "plt.xlabel(\"Feature importance\")\n",
    "plt.barh(features[importance], classifier3._final_estimator.feature_importances_[importance])\n",
    "plt.gca().invert_yaxis()\n",
    "plt.show()"
   ]
  },
  {
   "cell_type": "code",
   "execution_count": 17,
   "metadata": {},
   "outputs": [],
   "source": [
    "from sklearn.linear_model import LogisticRegression\n",
    "\n",
    "X = df_steam['review_text_clean']\n",
    "y = df_steam['review_score']\n",
    "\n",
    "clf4 = Pipeline([\n",
    "    ('vect', TfidfVectorizer(max_features=3000, strip_accents='ascii')),\n",
    "    ('tfidf', TfidfTransformer()),\n",
    "    ('clf', LogisticRegression()),\n",
    "    ])"
   ]
  },
  {
   "cell_type": "code",
   "execution_count": 18,
   "metadata": {},
   "outputs": [
    {
     "name": "stderr",
     "output_type": "stream",
     "text": [
      "/usr/local/lib/python3.9/site-packages/sklearn/linear_model/_logistic.py:814: ConvergenceWarning: lbfgs failed to converge (status=1):\n",
      "STOP: TOTAL NO. of ITERATIONS REACHED LIMIT.\n",
      "\n",
      "Increase the number of iterations (max_iter) or scale the data as shown in:\n",
      "    https://scikit-learn.org/stable/modules/preprocessing.html\n",
      "Please also refer to the documentation for alternative solver options:\n",
      "    https://scikit-learn.org/stable/modules/linear_model.html#logistic-regression\n",
      "  n_iter_i = _check_optimize_result(\n"
     ]
    }
   ],
   "source": [
    "from sklearn.model_selection import train_test_split\n",
    "\n",
    "X_train, X_test, y_train, y_test = train_test_split(X, y, random_state=42, test_size=0.20)\n",
    "\n",
    "classifier4 = clf4.fit(X_train, y_train)\n",
    "\n",
    "predictions_test = classifier3.predict(X_test)\n",
    "predictions_train = classifier3.predict(X_train)"
   ]
  },
  {
   "cell_type": "code",
   "execution_count": 19,
   "metadata": {},
   "outputs": [
    {
     "name": "stdout",
     "output_type": "stream",
     "text": [
      "Accuracy Rate: 0.872\n",
      "Precision: 0.9191489361702128\n",
      "Recall: 0.9325010209439356\n",
      "F1-Score: 0.9257768382033535\n"
     ]
    },
    {
     "data": {
      "image/png": "[encoded data removed]",
      "text/plain": [
       "<Figure size 432x288 with 2 Axes>"
      ]
     },
     "metadata": {
      "needs_background": "light"
     },
     "output_type": "display_data"
    },
    {
     "data": {
      "image/png": "[encoded data removed]",
      "text/plain": [
       "<Figure size 900x600 with 1 Axes>"
      ]
     },
     "metadata": {
      "needs_background": "light"
     },
     "output_type": "display_data"
    }
   ],
   "source": [
    "cmat = confusion_matrix(y_test, predictions_test)\n",
    "\n",
    "sns.heatmap(cmat, annot=True, fmt='')\n",
    "\n",
    "print('Accuracy Rate: {}'.format(round(np.divide(np.sum([cmat[0,0],cmat[1,1]]),np.sum(cmat)), 3)))\n",
    "print('Precision: {}'.format(precision_score(y_test, predictions_test)))\n",
    "print('Recall: {}'.format(recall_score(y_test, predictions_test)))\n",
    "print('F1-Score: {}'.format(f1_score(y_test, predictions_test)))\n",
    "\n",
    "n = 20\n",
    "\n",
    "features = classifier4['vect'].get_feature_names_out()\n",
    "importance = np.absolute(classifier4._final_estimator.coef_[0]).argsort()[::-1][:n]# summarize feature importance\n",
    "\n",
    "plt.figure(figsize=(9, 6), dpi=100)\n",
    "plt.subplot(131)\n",
    "plt.title('Top %i features' %n)\n",
    "plt.xlabel(\"Feature importance\")\n",
    "plt.barh(features[importance], classifier4._final_estimator.coef_[0][importance])\n",
    "plt.gca().invert_yaxis()\n",
    "plt.show()"
   ]
  },
  {
   "cell_type": "markdown",
   "metadata": {},
   "source": [
    "# Ethics & Privacy"
   ]
  },
  {
   "cell_type": "markdown",
   "metadata": {},
   "source": [
    "For our ethical review, we consulted the ‘’Data Science Ethics Checklist’’ by deon (https://deon.drivendata.org/), which contains a checklist of items for every data-related project. When people make a review on Steam, they get the option to choose whether it is public, only for their friends, or private. Our data is accessed from Kaggle which offers data to everyone who credits the party that has posted their dataset which we have done so. Nevertheless, we have also chosen a dataset with largely anonymous data for privacy reasons and avoid creating a potential bias by including personal information like gender for instance. \n",
    "\n",
    "Our data set does not include the users rather only user_ids which have been generated and have been kept confidential and the only identifying information is the Steam reviews themselves. Besides that, we also avoid the risk of unintended harm by choosing the anonymous data, where we avoid online abuse or physical harm being conducted upon the participants since their private information will be kept private in every way. Also, since some reviews are already private, this equalizes all the reviews together and Steam has provided this data. Their own website does have a privacy policy about for their users (https://store.steampowered.com/privacy_agreement/) so people must approve that. Despite the anonymity, we will also not use the data for any other purposes than our project. We have chosen a huge dataset which hopefully minimizes our potential bias. \n",
    "\n",
    "We are very aware of potential risks like p-hacking and wrongly sampling sizing and will pay attention to those. Any very odd outliers will be investigated and taken seriously. We know the source of our data and will share the dataset in our proposal for total transparency."
   ]
  },
  {
   "cell_type": "markdown",
   "metadata": {},
   "source": [
    "# Team Expectations "
   ]
  },
  {
   "cell_type": "markdown",
   "metadata": {},
   "source": [
    "We communicate through Discord where we either write each other and/or make calls, whatever is necessary for the discussion we need to have. We will also try to meet on campus in person in a while and work on the project together. \n",
    "We all respect each others way of working and we reach a consensus in good consultation. Also, we try to take everyones preferences considering topics for instance in consideration and so far this worked us very smoothly. When someone has a hard time makgin their deadline, we communicate this early upfront and help each other out.\n",
    "The tasks that have to be done are assigned to everyone based on their own preferences and competencies. Some might be assigned to everyone and some might be assigned to one person, as long as there is clear communication about it and everybody agrees this works for us."
   ]
  },
  {
   "cell_type": "markdown",
   "metadata": {},
   "source": [
    "# Project Timeline Proposal"
   ]
  },
  {
   "cell_type": "markdown",
   "metadata": {},
   "source": [
    "UPDATE THE PROPOSAL TIMELINE ACCORDING TO WHAT HAS ACTUALLY HAPPENED AND HOW IT HAS EFFECTED YOUR FUTURE PLANS\n",
    "\n",
    "| Meeting Date  | Meeting Time| Completed Before Meeting  | Discuss at Meeting |\n",
    "|---|---|---|---|\n",
    "| 4/19  |  7 PM |  Brainstorm topics/questions | Discuss interesting topics; Determine best form of communication; Discuss approach to project | \n",
    "| 4/24  |  8 PM (talk over Discord) |  Edit the document with your piece of work | Help each other out with the final pieces; Discuss how to tackle our deadlines in the future; Submit first version of the project | \n",
    "| 5/7  | 10 AM  | Everyone had feedbacked another projct | Discuss how we are tackling our project; Assign group members to lead each specific part   |\n",
    "| 5/18  | 6 PM  | Talk to TA about feedback (Lily) | Discuss the TA's feedback; Discuss further handling/progress on assigned pieces   |\n",
    "| 5/20  | 10 PM  | Begin programming for project (Alex) | Discuss/edit project code; Submit Checkpoint |\n",
    "| 5/25  | 12 PM  | Complete analysis | Discuss/edit full project; Write discussion and conclusion of the project |\n",
    "| 6/8  | Before 11:59 PM  | NA | Turn in Final Project  |"
   ]
  },
  {
   "cell_type": "markdown",
   "metadata": {},
   "source": [
    "# Footnotes\n",
    "\n",
    "\n",
    "<a name=\"formannote\"></a>1.[^](#forman): Forman, G. (2003). An extensive empirical study of feature selection metrics for text classification. The Journal of Machine Learning Research, 3, pp. 1289-1305.<br>\n",
    "<a name=\"sharmanote\"></a>2.[^](#sharma): Sharma & Dey. (2012). Performance Investigation of Feature Selection Methods and Sentiment Lexicons for Sentiment Analysis. Special Issue of International Journal of Computer Applications, June 2012.<br>\n",
    "<a name=\"sobkowicznote\"></a>3.[^](#sobkowicz): Sobkowicz, Antoni & Stokowiec, Wojciech. (2016). Steam Review Dataset - new, large scale sentiment dataset. https://www.researchgate.net/publication/311677831_Steam_Review_Dataset_-_new_large_scale_sentiment_dataset<br> \n",
    "<a name=\"statistanote\"></a>4.[^](#statista): Statista.com. (2021). Number of peak concurrent Steam users from January 2013 to September 2021. https://www.statista.com/statistics/308330/number-stream-users/<br>\n",
    "<a name=\"zuonote\"></a>5.[^](#zuo): Zuo, Zhen. (2018). Sentiment Analysis of Steam Review Datasets using Naive Bayes and Decision Tree Classifier. IDEALS, 2018-07-03. http://hdl.handle.net/2142/100126<br>\n"
   ]
  },
  {
   "cell_type": "code",
   "execution_count": null,
   "metadata": {},
   "outputs": [],
   "source": []
  }
 ],
 "metadata": {
  "interpreter": {
   "hash": "09e83f04e46517ea1a03852b22098722c60f5ebfc3f611b0edf7286ad5c15192"
  },
  "kernelspec": {
   "display_name": "Python 3 (ipykernel)",
   "language": "python",
   "name": "python3"
  },
  "language_info": {
   "codemirror_mode": {
    "name": "ipython",
    "version": 3
   },
   "file_extension": ".py",
   "mimetype": "text/x-python",
   "name": "python",
   "nbconvert_exporter": "python",
   "pygments_lexer": "ipython3",
   "version": "3.9.6"
  }
 },
 "nbformat": 4,
 "nbformat_minor": 2
}
